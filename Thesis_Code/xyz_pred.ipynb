{
 "cells": [
  {
   "cell_type": "code",
   "execution_count": 2,
   "id": "0019190e",
   "metadata": {},
   "outputs": [],
   "source": [
    "import numpy as np\n",
    "import os\n"
   ]
  },
  {
   "cell_type": "code",
   "execution_count": 1,
   "id": "de28da78",
   "metadata": {},
   "outputs": [],
   "source": [
    "#Function used for creating noise_xyz.xyz file of molecular trajectory consisting 1 million noise\n",
    "def predict_xyz():\n",
    "    arr=np.array([-0.158634,1.476990,0.411047,\n",
    "         1.041950, 0.823678, 0.078225,\n",
    "         1.011430, -0.482630, -0.457846,\n",
    "         -0.210105,-1.065830,-0.744214,\n",
    "         -1.406340, -0.413417, -0.461106,\n",
    "         -1.361700,0.879447, 0.141249,\n",
    "         -0.151833,2.467050,0.916930,\n",
    "         2.023630,1.287810,0.284945,\n",
    "         1.918370,-1.078760, -0.709580,\n",
    "         -0.238696,-2.128290,-1.046930,\n",
    "         -2.379310,-0.921187,-0.562856,\n",
    "         -2.274920,1.480540,0.378466])\n",
    "    mean=0\n",
    "    sigma=0.1\n",
    "    noise=np.random.normal(mean,sigma,(1000000,36))\n",
    "    xyz_with_noise=noise+arr\n",
    "    f=open('xyz_files/noise_xyz.xyz','w')\n",
    "    for j in range(999999):\n",
    "        i=0\n",
    "        f.writelines([\"12\\n\"])\n",
    "        f.writelines([\"XYZ with noise\\n\"])\n",
    "        f.writelines([\"C {} {} {}\\n\".format(xyz_with_noise[j][i],xyz_with_noise[j][i+1],xyz_with_noise[j][i+2])])\n",
    "        f.writelines([\"C {} {} {}\\n\".format(xyz_with_noise[j][i+3],xyz_with_noise[j][i+4],xyz_with_noise[j][i+5])])\n",
    "        f.writelines([\"C {} {} {}\\n\".format(xyz_with_noise[j][i+6],xyz_with_noise[j][i+7],xyz_with_noise[j][i+8])])\n",
    "        f.writelines([\"C {} {} {}\\n\".format(xyz_with_noise[j][i+9],xyz_with_noise[j][i+10],xyz_with_noise[j][i+11])])\n",
    "        f.writelines([\"C {} {} {}\\n\".format(xyz_with_noise[j][i+12],xyz_with_noise[j][i+13],xyz_with_noise[j][i+14])])\n",
    "        f.writelines([\"C {} {} {}\\n\".format(xyz_with_noise[j][i+15],xyz_with_noise[j][i+16],xyz_with_noise[j][i+17])])\n",
    "        f.writelines([\"H {} {} {}\\n\".format(xyz_with_noise[j][i+18],xyz_with_noise[j][i+19],xyz_with_noise[j][i+20])])\n",
    "        f.writelines([\"H {} {} {}\\n\".format(xyz_with_noise[j][i+21],xyz_with_noise[j][i+22],xyz_with_noise[j][i+23])])\n",
    "        f.writelines([\"H {} {} {}\\n\".format(xyz_with_noise[j][i+24],xyz_with_noise[j][i+25],xyz_with_noise[j][i+26])])\n",
    "        f.writelines([\"H {} {} {}\\n\".format(xyz_with_noise[j][i+27],xyz_with_noise[j][i+28],xyz_with_noise[j][i+29])])\n",
    "        f.writelines([\"H {} {} {}\\n\".format(xyz_with_noise[j][i+30],xyz_with_noise[j][i+31],xyz_with_noise[j][i+32])])\n",
    "        f.writelines([\"H {} {} {}\\n\".format(xyz_with_noise[j][i+33],xyz_with_noise[j][i+34],xyz_with_noise[j][i+35])])\n",
    "    print(\"The file noise_xyz.xyz is created\")\n",
    "    f.close()\n",
    "    \n",
    "        \n",
    "    \n",
    "    "
   ]
  },
  {
   "cell_type": "code",
   "execution_count": 2,
   "id": "6b389b63",
   "metadata": {},
   "outputs": [
    {
     "name": "stdout",
     "output_type": "stream",
     "text": [
      "The file noise_xyz.xyz is created\n"
     ]
    }
   ],
   "source": [
    "predict_xyz()"
   ]
  },
  {
   "cell_type": "code",
   "execution_count": 4,
   "id": "4ed69e7a",
   "metadata": {},
   "outputs": [],
   "source": [
    "from functions_utils import file_splitter\n",
    "\n",
    "'''!!!TO RUN ONLY ONCE!!! when there is no files in noise_splitter'''   \n",
    "file_splitter(\"xyz_files/noise_xyz.xyz\",\"noise_splitter\")"
   ]
  },
  {
   "cell_type": "code",
   "execution_count": 3,
   "id": "5e8e076e",
   "metadata": {},
   "outputs": [],
   "source": [
    "from functions_utils import compounds\n",
    "\n",
    "x_input_noise_coulomb= np.array([mol.representation for mol in compounds(\"noise_splitter\")])\n",
    "x_predicted_coulomb=np.load(\"predicted_coulomb_matrix.npy\")"
   ]
  },
  {
   "cell_type": "code",
   "execution_count": 4,
   "id": "e8cbfc6d",
   "metadata": {},
   "outputs": [
    {
     "name": "stdout",
     "output_type": "stream",
     "text": [
      "(999999, 78)\n",
      "(8000, 78)\n"
     ]
    }
   ],
   "source": [
    "print(x_input_noise_coulomb.shape)\n",
    "x_predicted_coulomb=np.transpose(x_predicted_coulomb)\n",
    "print(x_predicted_coulomb.shape)"
   ]
  },
  {
   "cell_type": "markdown",
   "id": "f4eeae51",
   "metadata": {},
   "source": [
    "# Mapping from those coulomb matrix to original trajectories' coulomb matrix"
   ]
  },
  {
   "cell_type": "code",
   "execution_count": 5,
   "id": "cbcd350f",
   "metadata": {},
   "outputs": [],
   "source": [
    "import numpy as np\n",
    "from sklearn.neighbors import NearestNeighbors\n",
    "import natsort\n",
    "\n",
    "\n",
    "neighbours=NearestNeighbors(n_neighbors=1, algorithm='kd_tree').fit(x_input_noise_coulomb)\n",
    "distances, indices= neighbours.kneighbors(x_predicted_coulomb)\n",
    "\n",
    "all_file_list=[]\n",
    "for f in natsort.natsorted(os.listdir(\"noise_splitter/\")):\n",
    "    all_file_list.append(f)\n",
    "\n",
    "mapped_file_list=[]\n",
    "for i in indices:\n",
    "    mapped_file_list.append(all_file_list[int(i)])\n",
    "    \n",
    "data=mol_traj=\"\"\n",
    "for file in mapped_file_list:\n",
    "    each_molecule=open(\"noise_splitter/\"+file,'r')\n",
    "    data=each_molecule.read()\n",
    "    mol_traj += data\n",
    "\n",
    "with open('xyz_files/predicted_xyz.xyz','w') as out_file:\n",
    "    out_file.write(mol_traj)\n",
    "\n",
    "    "
   ]
  },
  {
   "cell_type": "code",
   "execution_count": null,
   "id": "a60ff650",
   "metadata": {},
   "outputs": [],
   "source": []
  }
 ],
 "metadata": {
  "kernelspec": {
   "display_name": "Python 3 (ipykernel)",
   "language": "python",
   "name": "python3"
  },
  "language_info": {
   "codemirror_mode": {
    "name": "ipython",
    "version": 3
   },
   "file_extension": ".py",
   "mimetype": "text/x-python",
   "name": "python",
   "nbconvert_exporter": "python",
   "pygments_lexer": "ipython3",
   "version": "3.9.13"
  }
 },
 "nbformat": 4,
 "nbformat_minor": 5
}
